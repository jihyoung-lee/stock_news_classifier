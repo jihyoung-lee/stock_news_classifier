{
  "nbformat": 4,
  "nbformat_minor": 0,
  "metadata": {
    "colab": {
      "provenance": [],
      "authorship_tag": "ABX9TyOh+2SZF5We3YiUuMoxtPN8",
      "include_colab_link": true
    },
    "kernelspec": {
      "name": "python3",
      "display_name": "Python 3"
    },
    "language_info": {
      "name": "python"
    }
  },
  "cells": [
    {
      "cell_type": "markdown",
      "metadata": {
        "id": "view-in-github",
        "colab_type": "text"
      },
      "source": [
        "<a href=\"https://colab.research.google.com/github/jihyoung-lee/stock_news_classifier/blob/main/news_title_data_set.ipynb\" target=\"_parent\"><img src=\"https://colab.research.google.com/assets/colab-badge.svg\" alt=\"Open In Colab\"/></a>"
      ]
    },
    {
      "cell_type": "code",
      "execution_count": null,
      "metadata": {
        "id": "XRh0dn7wwOU8"
      },
      "outputs": [],
      "source": [
        "!pip install beautifulsoup4 requests pandas --quiet"
      ]
    },
    {
      "cell_type": "code",
      "source": [
        "import requests\n",
        "from bs4 import BeautifulSoup\n",
        "import pandas as pd\n",
        "import time\n",
        "\n",
        "# 검색할 키워드와 목표 수량 설정 + 라벨 정의\n",
        "keywords = {\n",
        "    \"주가+상승\": 1,\n",
        "    \"주가+급등\": 1,\n",
        "    \"주가+하락\": 0,\n",
        "    \"주가+폭락\": 0\n",
        "}\n",
        "target_per_keyword = 25\n",
        "\n",
        "# 결과 저장 리스트\n",
        "news_titles = []\n",
        "news_keywords = []\n",
        "news_labels = []\n",
        "\n",
        "# 키워드별 수집\n",
        "for keyword, label in keywords.items():\n",
        "    print(f\"'{keyword}' 뉴스 검색 중...\")\n",
        "\n",
        "    page = 1\n",
        "    collected = 0\n",
        "\n",
        "    while collected < target_per_keyword:\n",
        "        url = f\"https://search.daum.net/search?nil_suggest=btn&w=news&DA=SBC&cluster=y&q={keyword}&p={page}\"\n",
        "        response = requests.get(url)\n",
        "        soup = BeautifulSoup(response.text, 'html.parser')\n",
        "\n",
        "        # 뉴스 제목 추출\n",
        "        titles = soup.select('div.c-item-content strong.tit-g.clamp-g a')\n",
        "\n",
        "        if not titles:\n",
        "            print(f\"❗ '{keyword}' 관련 뉴스가 더 이상 없습니다.\")\n",
        "            break\n",
        "\n",
        "        for tag in titles:\n",
        "            title = tag.get_text(strip=True)\n",
        "            if title not in news_titles:  # 중복 제거\n",
        "                news_titles.append(title)\n",
        "                news_keywords.append(keyword)\n",
        "                news_labels.append(label)\n",
        "                collected += 1\n",
        "            if collected >= target_per_keyword:\n",
        "                break\n",
        "\n",
        "        page += 1\n",
        "        time.sleep(0.5)\n",
        "\n",
        "# 데이터프레임 생성\n",
        "df = pd.DataFrame({\n",
        "    \"keyword\": news_keywords,\n",
        "    \"title\": news_titles,\n",
        "    \"label\": news_labels\n",
        "})\n",
        "\n",
        "# CSV 저장\n",
        "csv_filename = \"stock_news_labeled_auto.csv\"\n",
        "df.to_csv(csv_filename, index=False, encoding='utf-8-sig')\n",
        "\n",
        "print(f\"\\n✅ 총 {len(news_titles)}개 뉴스 수집 및 라벨링 완료!\")\n",
        "print(f\"✅ '{csv_filename}' 파일로 저장 완료!\")"
      ],
      "metadata": {
        "colab": {
          "base_uri": "https://localhost:8080/"
        },
        "id": "SVT5NWKiw5WD",
        "outputId": "72d58f14-13b4-45cf-efaa-61de45f3fba8"
      },
      "execution_count": 6,
      "outputs": [
        {
          "output_type": "stream",
          "name": "stdout",
          "text": [
            "🔍 '주가+상승' 뉴스 검색 중...\n",
            "🔍 '주가+급등' 뉴스 검색 중...\n",
            "🔍 '주가+하락' 뉴스 검색 중...\n",
            "🔍 '주가+폭락' 뉴스 검색 중...\n",
            "\n",
            "✅ 총 100개 뉴스 수집 및 라벨링 완료!\n",
            "✅ 'stock_news_labeled_auto.csv' 파일로 저장 완료!\n",
            "🔍 '주가+상승' 뉴스 검색 중...\n",
            "🔍 '주가+급등' 뉴스 검색 중...\n",
            "🔍 '주가+하락' 뉴스 검색 중...\n",
            "🔍 '주가+폭락' 뉴스 검색 중...\n",
            "\n",
            "✅ 총 100개 뉴스 수집 및 라벨링 완료!\n",
            "✅ 'stock_news_labeled_auto.csv' 파일로 저장 완료!\n"
          ]
        }
      ]
    },
    {
      "cell_type": "code",
      "source": [
        "# 기존 수집된 뉴스 수\n",
        "existing_count = len(news_titles)\n",
        "\n",
        "# 목표 수량 설정\n",
        "total_target = 300\n",
        "\n",
        "# 부족한 만큼 추가로 크롤링\n",
        "if existing_count < total_target:\n",
        "    additional_needed = total_target - existing_count\n",
        "    print(f\"뉴스 {additional_needed}개 더 수집해야 합니다.\")\n",
        "\n",
        "    page = page  # 기존 마지막 페이지부터 이어서\n",
        "    while len(news_titles) < total_target:\n",
        "        url = f\"https://search.daum.net/search?w=news&q=주가+상승&p={page}\"\n",
        "        response = requests.get(url)\n",
        "        soup = BeautifulSoup(response.text, 'html.parser')\n",
        "\n",
        "        titles = soup.select('div.c-item-content strong.tit-g.clamp-g a')\n",
        "\n",
        "        if not titles:\n",
        "            print(\"❗ 추가 뉴스가 없습니다.\")\n",
        "            break\n",
        "\n",
        "        for tag in titles:\n",
        "            title = tag.get_text(strip=True)\n",
        "            if title not in news_titles:  # 중복 제거\n",
        "                news_titles.append(title)\n",
        "                news_keywords.append('주가 상승')\n",
        "                news_labels.append(1)  # 라벨도 추가\n",
        "            if len(news_titles) >= total_target:\n",
        "                break\n",
        "\n",
        "        page += 1\n",
        "        time.sleep(0.5)"
      ],
      "metadata": {
        "id": "aqoEiDi1w_77"
      },
      "execution_count": null,
      "outputs": []
    }
  ]
}